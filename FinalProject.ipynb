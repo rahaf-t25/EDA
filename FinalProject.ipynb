{
 "cells": [
  {
   "cell_type": "markdown",
   "id": "8a7d3185",
   "metadata": {},
   "source": [
    "## Superstore Sales "
   ]
  },
  {
   "cell_type": "code",
   "execution_count": 97,
   "id": "fa292377",
   "metadata": {},
   "outputs": [
    {
     "data": {
      "text/html": [
       "<div>\n",
       "<style scoped>\n",
       "    .dataframe tbody tr th:only-of-type {\n",
       "        vertical-align: middle;\n",
       "    }\n",
       "\n",
       "    .dataframe tbody tr th {\n",
       "        vertical-align: top;\n",
       "    }\n",
       "\n",
       "    .dataframe thead th {\n",
       "        text-align: right;\n",
       "    }\n",
       "</style>\n",
       "<table border=\"1\" class=\"dataframe\">\n",
       "  <thead>\n",
       "    <tr style=\"text-align: right;\">\n",
       "      <th></th>\n",
       "      <th>Row ID</th>\n",
       "      <th>Order ID</th>\n",
       "      <th>Order Date</th>\n",
       "      <th>Ship Date</th>\n",
       "      <th>Ship Mode</th>\n",
       "      <th>Customer ID</th>\n",
       "      <th>Customer Name</th>\n",
       "      <th>Segment</th>\n",
       "      <th>Country</th>\n",
       "      <th>City</th>\n",
       "      <th>State</th>\n",
       "      <th>Postal Code</th>\n",
       "      <th>Region</th>\n",
       "      <th>Product ID</th>\n",
       "      <th>Category</th>\n",
       "      <th>Sub-Category</th>\n",
       "      <th>Product Name</th>\n",
       "      <th>Sales</th>\n",
       "    </tr>\n",
       "  </thead>\n",
       "  <tbody>\n",
       "    <tr>\n",
       "      <th>0</th>\n",
       "      <td>1</td>\n",
       "      <td>CA-2017-152156</td>\n",
       "      <td>08/11/2017</td>\n",
       "      <td>11/11/2017</td>\n",
       "      <td>Second Class</td>\n",
       "      <td>CG-12520</td>\n",
       "      <td>Claire Gute</td>\n",
       "      <td>Consumer</td>\n",
       "      <td>United States</td>\n",
       "      <td>Henderson</td>\n",
       "      <td>Kentucky</td>\n",
       "      <td>42420.0</td>\n",
       "      <td>South</td>\n",
       "      <td>FUR-BO-10001798</td>\n",
       "      <td>Furniture</td>\n",
       "      <td>Bookcases</td>\n",
       "      <td>Bush Somerset Collection Bookcase</td>\n",
       "      <td>261.9600</td>\n",
       "    </tr>\n",
       "    <tr>\n",
       "      <th>1</th>\n",
       "      <td>2</td>\n",
       "      <td>CA-2017-152156</td>\n",
       "      <td>08/11/2017</td>\n",
       "      <td>11/11/2017</td>\n",
       "      <td>Second Class</td>\n",
       "      <td>CG-12520</td>\n",
       "      <td>Claire Gute</td>\n",
       "      <td>Consumer</td>\n",
       "      <td>United States</td>\n",
       "      <td>Henderson</td>\n",
       "      <td>Kentucky</td>\n",
       "      <td>42420.0</td>\n",
       "      <td>South</td>\n",
       "      <td>FUR-CH-10000454</td>\n",
       "      <td>Furniture</td>\n",
       "      <td>Chairs</td>\n",
       "      <td>Hon Deluxe Fabric Upholstered Stacking Chairs,...</td>\n",
       "      <td>731.9400</td>\n",
       "    </tr>\n",
       "    <tr>\n",
       "      <th>2</th>\n",
       "      <td>3</td>\n",
       "      <td>CA-2017-138688</td>\n",
       "      <td>12/06/2017</td>\n",
       "      <td>16/06/2017</td>\n",
       "      <td>Second Class</td>\n",
       "      <td>DV-13045</td>\n",
       "      <td>Darrin Van Huff</td>\n",
       "      <td>Corporate</td>\n",
       "      <td>United States</td>\n",
       "      <td>Los Angeles</td>\n",
       "      <td>California</td>\n",
       "      <td>90036.0</td>\n",
       "      <td>West</td>\n",
       "      <td>OFF-LA-10000240</td>\n",
       "      <td>Office Supplies</td>\n",
       "      <td>Labels</td>\n",
       "      <td>Self-Adhesive Address Labels for Typewriters b...</td>\n",
       "      <td>14.6200</td>\n",
       "    </tr>\n",
       "    <tr>\n",
       "      <th>3</th>\n",
       "      <td>4</td>\n",
       "      <td>US-2016-108966</td>\n",
       "      <td>11/10/2016</td>\n",
       "      <td>18/10/2016</td>\n",
       "      <td>Standard Class</td>\n",
       "      <td>SO-20335</td>\n",
       "      <td>Sean O'Donnell</td>\n",
       "      <td>Consumer</td>\n",
       "      <td>United States</td>\n",
       "      <td>Fort Lauderdale</td>\n",
       "      <td>Florida</td>\n",
       "      <td>33311.0</td>\n",
       "      <td>South</td>\n",
       "      <td>FUR-TA-10000577</td>\n",
       "      <td>Furniture</td>\n",
       "      <td>Tables</td>\n",
       "      <td>Bretford CR4500 Series Slim Rectangular Table</td>\n",
       "      <td>957.5775</td>\n",
       "    </tr>\n",
       "    <tr>\n",
       "      <th>4</th>\n",
       "      <td>5</td>\n",
       "      <td>US-2016-108966</td>\n",
       "      <td>11/10/2016</td>\n",
       "      <td>18/10/2016</td>\n",
       "      <td>Standard Class</td>\n",
       "      <td>SO-20335</td>\n",
       "      <td>Sean O'Donnell</td>\n",
       "      <td>Consumer</td>\n",
       "      <td>United States</td>\n",
       "      <td>Fort Lauderdale</td>\n",
       "      <td>Florida</td>\n",
       "      <td>33311.0</td>\n",
       "      <td>South</td>\n",
       "      <td>OFF-ST-10000760</td>\n",
       "      <td>Office Supplies</td>\n",
       "      <td>Storage</td>\n",
       "      <td>Eldon Fold 'N Roll Cart System</td>\n",
       "      <td>22.3680</td>\n",
       "    </tr>\n",
       "  </tbody>\n",
       "</table>\n",
       "</div>"
      ],
      "text/plain": [
       "   Row ID        Order ID  Order Date   Ship Date       Ship Mode Customer ID  \\\n",
       "0       1  CA-2017-152156  08/11/2017  11/11/2017    Second Class    CG-12520   \n",
       "1       2  CA-2017-152156  08/11/2017  11/11/2017    Second Class    CG-12520   \n",
       "2       3  CA-2017-138688  12/06/2017  16/06/2017    Second Class    DV-13045   \n",
       "3       4  US-2016-108966  11/10/2016  18/10/2016  Standard Class    SO-20335   \n",
       "4       5  US-2016-108966  11/10/2016  18/10/2016  Standard Class    SO-20335   \n",
       "\n",
       "     Customer Name    Segment        Country             City       State  \\\n",
       "0      Claire Gute   Consumer  United States        Henderson    Kentucky   \n",
       "1      Claire Gute   Consumer  United States        Henderson    Kentucky   \n",
       "2  Darrin Van Huff  Corporate  United States      Los Angeles  California   \n",
       "3   Sean O'Donnell   Consumer  United States  Fort Lauderdale     Florida   \n",
       "4   Sean O'Donnell   Consumer  United States  Fort Lauderdale     Florida   \n",
       "\n",
       "   Postal Code Region       Product ID         Category Sub-Category  \\\n",
       "0      42420.0  South  FUR-BO-10001798        Furniture    Bookcases   \n",
       "1      42420.0  South  FUR-CH-10000454        Furniture       Chairs   \n",
       "2      90036.0   West  OFF-LA-10000240  Office Supplies       Labels   \n",
       "3      33311.0  South  FUR-TA-10000577        Furniture       Tables   \n",
       "4      33311.0  South  OFF-ST-10000760  Office Supplies      Storage   \n",
       "\n",
       "                                        Product Name     Sales  \n",
       "0                  Bush Somerset Collection Bookcase  261.9600  \n",
       "1  Hon Deluxe Fabric Upholstered Stacking Chairs,...  731.9400  \n",
       "2  Self-Adhesive Address Labels for Typewriters b...   14.6200  \n",
       "3      Bretford CR4500 Series Slim Rectangular Table  957.5775  \n",
       "4                     Eldon Fold 'N Roll Cart System   22.3680  "
      ]
     },
     "execution_count": 97,
     "metadata": {},
     "output_type": "execute_result"
    }
   ],
   "source": [
    "import numpy as np\n",
    "import pandas as pd\n",
    "import matplotlib.pyplot as plt\n",
    "import seaborn as sns\n",
    "#import plotly.express as px\n",
    "\n",
    "\n",
    "df=pd.read_csv('train.csv')\n",
    "\n",
    "\n",
    "%matplotlib inline\n",
    "#df.info()\n",
    "df.head()"
   ]
  },
  {
   "cell_type": "code",
   "execution_count": 70,
   "id": "966351ab",
   "metadata": {},
   "outputs": [
    {
     "data": {
      "text/plain": [
       "Index(['Row ID', 'Order ID', 'Order Date', 'Ship Date', 'Ship Mode',\n",
       "       'Customer ID', 'Customer Name', 'Segment', 'Country', 'City', 'State',\n",
       "       'Postal Code', 'Region', 'Product ID', 'Category', 'Sub-Category',\n",
       "       'Product Name', 'Sales'],\n",
       "      dtype='object')"
      ]
     },
     "execution_count": 70,
     "metadata": {},
     "output_type": "execute_result"
    }
   ],
   "source": [
    "df.columns"
   ]
  },
  {
   "cell_type": "code",
   "execution_count": 71,
   "id": "db75c4d0",
   "metadata": {},
   "outputs": [
    {
     "data": {
      "text/plain": [
       "Row ID            0\n",
       "Order ID          0\n",
       "Order Date        0\n",
       "Ship Date         0\n",
       "Ship Mode         0\n",
       "Customer ID       0\n",
       "Customer Name     0\n",
       "Segment           0\n",
       "Country           0\n",
       "City              0\n",
       "State             0\n",
       "Postal Code      11\n",
       "Region            0\n",
       "Product ID        0\n",
       "Category          0\n",
       "Sub-Category      0\n",
       "Product Name      0\n",
       "Sales             0\n",
       "dtype: int64"
      ]
     },
     "execution_count": 71,
     "metadata": {},
     "output_type": "execute_result"
    }
   ],
   "source": [
    "# check to null values \n",
    "df.isna().sum()"
   ]
  },
  {
   "cell_type": "markdown",
   "id": "53f312b5",
   "metadata": {},
   "source": [
    "## Data cleaning"
   ]
  },
  {
   "cell_type": "code",
   "execution_count": 72,
   "id": "7c02f9f2",
   "metadata": {},
   "outputs": [],
   "source": [
    "# Data cleaning\n",
    "\n",
    "#Delete a column with Null values\n",
    "newdf = df.drop(['Postal Code'], axis=1, inplace=True)\n"
   ]
  },
  {
   "cell_type": "code",
   "execution_count": 73,
   "id": "fe4c2544",
   "metadata": {},
   "outputs": [
    {
     "name": "stdout",
     "output_type": "stream",
     "text": [
      "<class 'pandas.core.frame.DataFrame'>\n",
      "RangeIndex: 9800 entries, 0 to 9799\n",
      "Data columns (total 17 columns):\n",
      " #   Column         Non-Null Count  Dtype  \n",
      "---  ------         --------------  -----  \n",
      " 0   Row ID         9800 non-null   int64  \n",
      " 1   Order ID       9800 non-null   object \n",
      " 2   Order Date     9800 non-null   object \n",
      " 3   Ship Date      9800 non-null   object \n",
      " 4   Ship Mode      9800 non-null   object \n",
      " 5   Customer ID    9800 non-null   object \n",
      " 6   Customer Name  9800 non-null   object \n",
      " 7   Segment        9800 non-null   object \n",
      " 8   Country        9800 non-null   object \n",
      " 9   City           9800 non-null   object \n",
      " 10  State          9800 non-null   object \n",
      " 11  Region         9800 non-null   object \n",
      " 12  Product ID     9800 non-null   object \n",
      " 13  Category       9800 non-null   object \n",
      " 14  Sub-Category   9800 non-null   object \n",
      " 15  Product Name   9800 non-null   object \n",
      " 16  Sales          9800 non-null   float64\n",
      "dtypes: float64(1), int64(1), object(15)\n",
      "memory usage: 1.3+ MB\n"
     ]
    }
   ],
   "source": [
    "df.head()\n",
    "df.info()"
   ]
  },
  {
   "cell_type": "code",
   "execution_count": 74,
   "id": "3c3380e7",
   "metadata": {},
   "outputs": [],
   "source": [
    "# Delete unnecessary columns\n",
    "\n",
    "newdf1 = df.drop(['Sub-Category'], axis=1, inplace=True)\n",
    "newdf3 = df.drop(['Region'], axis=1, inplace=True)\n",
    "newdf4 = df.drop(['State'], axis=1, inplace=True)\n",
    "newdf5 = df.drop(['Ship Mode'], axis=1, inplace=True)\n",
    "newdf6 = df.drop(['Ship Date'], axis=1, inplace=True)"
   ]
  },
  {
   "cell_type": "code",
   "execution_count": 75,
   "id": "a15531dc",
   "metadata": {},
   "outputs": [
    {
     "name": "stdout",
     "output_type": "stream",
     "text": [
      "<class 'pandas.core.frame.DataFrame'>\n",
      "RangeIndex: 9800 entries, 0 to 9799\n",
      "Data columns (total 12 columns):\n",
      " #   Column         Non-Null Count  Dtype  \n",
      "---  ------         --------------  -----  \n",
      " 0   Row ID         9800 non-null   int64  \n",
      " 1   Order ID       9800 non-null   object \n",
      " 2   Order Date     9800 non-null   object \n",
      " 3   Customer ID    9800 non-null   object \n",
      " 4   Customer Name  9800 non-null   object \n",
      " 5   Segment        9800 non-null   object \n",
      " 6   Country        9800 non-null   object \n",
      " 7   City           9800 non-null   object \n",
      " 8   Product ID     9800 non-null   object \n",
      " 9   Category       9800 non-null   object \n",
      " 10  Product Name   9800 non-null   object \n",
      " 11  Sales          9800 non-null   float64\n",
      "dtypes: float64(1), int64(1), object(10)\n",
      "memory usage: 918.9+ KB\n"
     ]
    }
   ],
   "source": [
    "df.info()\n",
    "\n",
    "# remove white space from product name\n",
    "df['Product Name']=df['Product Name'].str.strip()"
   ]
  },
  {
   "cell_type": "markdown",
   "id": "80285336",
   "metadata": {},
   "source": [
    "## Q1: What type of segment has the highest sales?"
   ]
  },
  {
   "cell_type": "code",
   "execution_count": 95,
   "id": "aa1d9f92",
   "metadata": {},
   "outputs": [
    {
     "data": {
      "image/png": "[encoded data removed]",
      "text/plain": [
       "<Figure size 432x288 with 1 Axes>"
      ]
     },
     "metadata": {
      "needs_background": "light"
     },
     "output_type": "display_data"
    },
    {
     "name": "stdout",
     "output_type": "stream",
     "text": [
      "highest sales of Segment is: Home Office\n"
     ]
    },
    {
     "data": {
      "text/plain": [
       "<Figure size 432x288 with 0 Axes>"
      ]
     },
     "metadata": {},
     "output_type": "display_data"
    }
   ],
   "source": [
    "sns.barplot(data=df, x=\"Sales\", y=\"Segment\")\n",
    "plt.title('highest sales of Segment')\n",
    "plt.xlabel('Sales')\n",
    "plt.ylabel('Segment')\n",
    "\n",
    "plt.title('highest sales of Segment',fontsize = 20, weight = 'bold');\n",
    "plt.show()\n",
    "# Home Office\n",
    "print(\"highest sales of Segment is: Home Office\")\n",
    "plt.savefig(\"Segment.png\",dpi=250);\n"
   ]
  },
  {
   "cell_type": "markdown",
   "id": "1bde1c65",
   "metadata": {},
   "source": [
    "## Q2: What type of Category has the highest sales?"
   ]
  },
  {
   "cell_type": "code",
   "execution_count": 77,
   "id": "4cf06cb0",
   "metadata": {},
   "outputs": [
    {
     "name": "stdout",
     "output_type": "stream",
     "text": [
      "highest sales of Category is: Technology\n"
     ]
    },
    {
     "data": {
      "image/png": "[encoded data removed]",
      "text/plain": [
       "<Figure size 720x432 with 1 Axes>"
      ]
     },
     "metadata": {
      "needs_background": "light"
     },
     "output_type": "display_data"
    }
   ],
   "source": [
    "\n",
    "\n",
    "\n",
    "plt.figure(figsize=[10, 6])\n",
    "\n",
    "plt.title('highest sales of Category',fontsize = 20, weight = 'bold')\n",
    "sns.barplot(x = 'Category',y= 'Sales',data=df,palette = sns.color_palette(\"Set2\", 3));\n",
    "sns.despine()\n",
    "\n",
    "#plt.show()\n",
    "# Technology\n",
    "plt.savefig(\"Downloa.png\",dpi=250);\n",
    "print(\"highest sales of Category is: Technology\")"
   ]
  },
  {
   "cell_type": "markdown",
   "id": "e3972b36",
   "metadata": {},
   "source": [
    "## Q3 What is the average of sales ?"
   ]
  },
  {
   "cell_type": "code",
   "execution_count": 96,
   "id": "9a3fd4dc",
   "metadata": {},
   "outputs": [
    {
     "data": {
      "text/html": [
       "<div>\n",
       "<style scoped>\n",
       "    .dataframe tbody tr th:only-of-type {\n",
       "        vertical-align: middle;\n",
       "    }\n",
       "\n",
       "    .dataframe tbody tr th {\n",
       "        vertical-align: top;\n",
       "    }\n",
       "\n",
       "    .dataframe thead th {\n",
       "        text-align: right;\n",
       "    }\n",
       "</style>\n",
       "<table border=\"1\" class=\"dataframe\">\n",
       "  <thead>\n",
       "    <tr style=\"text-align: right;\">\n",
       "      <th></th>\n",
       "      <th>Row ID</th>\n",
       "      <th>Sales</th>\n",
       "      <th>year</th>\n",
       "      <th>month</th>\n",
       "    </tr>\n",
       "  </thead>\n",
       "  <tbody>\n",
       "    <tr>\n",
       "      <th>count</th>\n",
       "      <td>9800.000000</td>\n",
       "      <td>9800.000000</td>\n",
       "      <td>9800.000000</td>\n",
       "      <td>9800.000000</td>\n",
       "    </tr>\n",
       "    <tr>\n",
       "      <th>mean</th>\n",
       "      <td>4900.500000</td>\n",
       "      <td>230.769059</td>\n",
       "      <td>2016.724184</td>\n",
       "      <td>7.186122</td>\n",
       "    </tr>\n",
       "    <tr>\n",
       "      <th>std</th>\n",
       "      <td>2829.160653</td>\n",
       "      <td>626.651875</td>\n",
       "      <td>1.123984</td>\n",
       "      <td>3.424108</td>\n",
       "    </tr>\n",
       "    <tr>\n",
       "      <th>min</th>\n",
       "      <td>1.000000</td>\n",
       "      <td>0.444000</td>\n",
       "      <td>2015.000000</td>\n",
       "      <td>1.000000</td>\n",
       "    </tr>\n",
       "    <tr>\n",
       "      <th>25%</th>\n",
       "      <td>2450.750000</td>\n",
       "      <td>17.248000</td>\n",
       "      <td>2016.000000</td>\n",
       "      <td>4.000000</td>\n",
       "    </tr>\n",
       "    <tr>\n",
       "      <th>50%</th>\n",
       "      <td>4900.500000</td>\n",
       "      <td>54.490000</td>\n",
       "      <td>2017.000000</td>\n",
       "      <td>8.000000</td>\n",
       "    </tr>\n",
       "    <tr>\n",
       "      <th>75%</th>\n",
       "      <td>7350.250000</td>\n",
       "      <td>210.605000</td>\n",
       "      <td>2018.000000</td>\n",
       "      <td>10.000000</td>\n",
       "    </tr>\n",
       "    <tr>\n",
       "      <th>max</th>\n",
       "      <td>9800.000000</td>\n",
       "      <td>22638.480000</td>\n",
       "      <td>2018.000000</td>\n",
       "      <td>12.000000</td>\n",
       "    </tr>\n",
       "  </tbody>\n",
       "</table>\n",
       "</div>"
      ],
      "text/plain": [
       "            Row ID         Sales         year        month\n",
       "count  9800.000000   9800.000000  9800.000000  9800.000000\n",
       "mean   4900.500000    230.769059  2016.724184     7.186122\n",
       "std    2829.160653    626.651875     1.123984     3.424108\n",
       "min       1.000000      0.444000  2015.000000     1.000000\n",
       "25%    2450.750000     17.248000  2016.000000     4.000000\n",
       "50%    4900.500000     54.490000  2017.000000     8.000000\n",
       "75%    7350.250000    210.605000  2018.000000    10.000000\n",
       "max    9800.000000  22638.480000  2018.000000    12.000000"
      ]
     },
     "execution_count": 96,
     "metadata": {},
     "output_type": "execute_result"
    }
   ],
   "source": [
    "\n",
    "df.describe()\n",
    "#230.769059\n"
   ]
  },
  {
   "cell_type": "code",
   "execution_count": 79,
   "id": "54fa8e55",
   "metadata": {},
   "outputs": [
    {
     "data": {
      "text/plain": [
       "Staple envelope                                          47\n",
       "Staples                                                  46\n",
       "Easy-staple paper                                        44\n",
       "Avery Non-Stick Binders                                  20\n",
       "Staple remover                                           18\n",
       "                                                         ..\n",
       "NeatDesk Desktop Scanner & Digital Filing System          1\n",
       "Cisco TelePresence System EX90 Videoconferencing Unit     1\n",
       "Cisco SPA525G2 5-Line IP Phone                            1\n",
       "Holmes Harmony HEPA Air Purifier for 17 x 20 Room         1\n",
       "Xerox 20                                                  1\n",
       "Name: Product Name, Length: 1849, dtype: int64"
      ]
     },
     "execution_count": 79,
     "metadata": {},
     "output_type": "execute_result"
    }
   ],
   "source": [
    "df['Product Name'].unique()\n",
    "df['Product Name'].nunique() # 1849 value\n",
    "df['Product Name'].value_counts() # I will take Top 5"
   ]
  },
  {
   "cell_type": "code",
   "execution_count": null,
   "id": "6f1a496d",
   "metadata": {},
   "outputs": [],
   "source": []
  },
  {
   "cell_type": "markdown",
   "id": "6aaba336",
   "metadata": {},
   "source": [
    "## Q4-What product sold the most form top 5? "
   ]
  },
  {
   "cell_type": "code",
   "execution_count": 80,
   "id": "5c17abe1",
   "metadata": {},
   "outputs": [
    {
     "name": "stdout",
     "output_type": "stream",
     "text": [
      "highest sales of product is: Staple envelope\n"
     ]
    },
    {
     "data": {
      "image/png": "[encoded data removed]",
      "text/plain": [
       "<Figure size 432x288 with 1 Axes>"
      ]
     },
     "metadata": {
      "needs_background": "light"
     },
     "output_type": "display_data"
    }
   ],
   "source": [
    "\n",
    "\n",
    "data = {'Product Name':['Staple envelope','Staples ','Easy-staple paper ','Avery Non-Stick Binders ','Staple remover'],\n",
    "       'Sales':[47,46,44,20,18]}\n",
    "df1_x= pd.DataFrame(data)\n",
    "df1_x\n",
    "#plt.figure(figsize=[10, 6])\n",
    "plt.xticks(rotation =10);\n",
    "sns.barplot( x= df1_x['Product Name'], y= df1_x.Sales);\n",
    "\n",
    "plt.title('highest sales of product',fontsize = 20, weight = 'bold');\n",
    "#plt.show()\n",
    "plt.savefig(\"Downlo.png\",dpi=250);\n",
    "# Staple envelope\n",
    "print(\"highest sales of product is: Staple envelope\")"
   ]
  },
  {
   "cell_type": "code",
   "execution_count": 81,
   "id": "f2af07cc",
   "metadata": {},
   "outputs": [
    {
     "data": {
      "text/html": [
       "<div>\n",
       "<style scoped>\n",
       "    .dataframe tbody tr th:only-of-type {\n",
       "        vertical-align: middle;\n",
       "    }\n",
       "\n",
       "    .dataframe tbody tr th {\n",
       "        vertical-align: top;\n",
       "    }\n",
       "\n",
       "    .dataframe thead th {\n",
       "        text-align: right;\n",
       "    }\n",
       "</style>\n",
       "<table border=\"1\" class=\"dataframe\">\n",
       "  <thead>\n",
       "    <tr style=\"text-align: right;\">\n",
       "      <th></th>\n",
       "      <th>Row ID</th>\n",
       "      <th>Order ID</th>\n",
       "      <th>Order Date</th>\n",
       "      <th>Customer ID</th>\n",
       "      <th>Customer Name</th>\n",
       "      <th>Segment</th>\n",
       "      <th>Country</th>\n",
       "      <th>City</th>\n",
       "      <th>Product ID</th>\n",
       "      <th>Category</th>\n",
       "      <th>Product Name</th>\n",
       "      <th>Sales</th>\n",
       "    </tr>\n",
       "  </thead>\n",
       "  <tbody>\n",
       "    <tr>\n",
       "      <th>0</th>\n",
       "      <td>1</td>\n",
       "      <td>CA-2017-152156</td>\n",
       "      <td>08/11/2017</td>\n",
       "      <td>CG-12520</td>\n",
       "      <td>Claire Gute</td>\n",
       "      <td>Consumer</td>\n",
       "      <td>United States</td>\n",
       "      <td>Henderson</td>\n",
       "      <td>FUR-BO-10001798</td>\n",
       "      <td>Furniture</td>\n",
       "      <td>Bush Somerset Collection Bookcase</td>\n",
       "      <td>261.9600</td>\n",
       "    </tr>\n",
       "    <tr>\n",
       "      <th>1</th>\n",
       "      <td>2</td>\n",
       "      <td>CA-2017-152156</td>\n",
       "      <td>08/11/2017</td>\n",
       "      <td>CG-12520</td>\n",
       "      <td>Claire Gute</td>\n",
       "      <td>Consumer</td>\n",
       "      <td>United States</td>\n",
       "      <td>Henderson</td>\n",
       "      <td>FUR-CH-10000454</td>\n",
       "      <td>Furniture</td>\n",
       "      <td>Hon Deluxe Fabric Upholstered Stacking Chairs,...</td>\n",
       "      <td>731.9400</td>\n",
       "    </tr>\n",
       "    <tr>\n",
       "      <th>2</th>\n",
       "      <td>3</td>\n",
       "      <td>CA-2017-138688</td>\n",
       "      <td>12/06/2017</td>\n",
       "      <td>DV-13045</td>\n",
       "      <td>Darrin Van Huff</td>\n",
       "      <td>Corporate</td>\n",
       "      <td>United States</td>\n",
       "      <td>Los Angeles</td>\n",
       "      <td>OFF-LA-10000240</td>\n",
       "      <td>Office Supplies</td>\n",
       "      <td>Self-Adhesive Address Labels for Typewriters b...</td>\n",
       "      <td>14.6200</td>\n",
       "    </tr>\n",
       "    <tr>\n",
       "      <th>3</th>\n",
       "      <td>4</td>\n",
       "      <td>US-2016-108966</td>\n",
       "      <td>11/10/2016</td>\n",
       "      <td>SO-20335</td>\n",
       "      <td>Sean O'Donnell</td>\n",
       "      <td>Consumer</td>\n",
       "      <td>United States</td>\n",
       "      <td>Fort Lauderdale</td>\n",
       "      <td>FUR-TA-10000577</td>\n",
       "      <td>Furniture</td>\n",
       "      <td>Bretford CR4500 Series Slim Rectangular Table</td>\n",
       "      <td>957.5775</td>\n",
       "    </tr>\n",
       "    <tr>\n",
       "      <th>4</th>\n",
       "      <td>5</td>\n",
       "      <td>US-2016-108966</td>\n",
       "      <td>11/10/2016</td>\n",
       "      <td>SO-20335</td>\n",
       "      <td>Sean O'Donnell</td>\n",
       "      <td>Consumer</td>\n",
       "      <td>United States</td>\n",
       "      <td>Fort Lauderdale</td>\n",
       "      <td>OFF-ST-10000760</td>\n",
       "      <td>Office Supplies</td>\n",
       "      <td>Eldon Fold 'N Roll Cart System</td>\n",
       "      <td>22.3680</td>\n",
       "    </tr>\n",
       "  </tbody>\n",
       "</table>\n",
       "</div>"
      ],
      "text/plain": [
       "   Row ID        Order ID  Order Date Customer ID    Customer Name    Segment  \\\n",
       "0       1  CA-2017-152156  08/11/2017    CG-12520      Claire Gute   Consumer   \n",
       "1       2  CA-2017-152156  08/11/2017    CG-12520      Claire Gute   Consumer   \n",
       "2       3  CA-2017-138688  12/06/2017    DV-13045  Darrin Van Huff  Corporate   \n",
       "3       4  US-2016-108966  11/10/2016    SO-20335   Sean O'Donnell   Consumer   \n",
       "4       5  US-2016-108966  11/10/2016    SO-20335   Sean O'Donnell   Consumer   \n",
       "\n",
       "         Country             City       Product ID         Category  \\\n",
       "0  United States        Henderson  FUR-BO-10001798        Furniture   \n",
       "1  United States        Henderson  FUR-CH-10000454        Furniture   \n",
       "2  United States      Los Angeles  OFF-LA-10000240  Office Supplies   \n",
       "3  United States  Fort Lauderdale  FUR-TA-10000577        Furniture   \n",
       "4  United States  Fort Lauderdale  OFF-ST-10000760  Office Supplies   \n",
       "\n",
       "                                        Product Name     Sales  \n",
       "0                  Bush Somerset Collection Bookcase  261.9600  \n",
       "1  Hon Deluxe Fabric Upholstered Stacking Chairs,...  731.9400  \n",
       "2  Self-Adhesive Address Labels for Typewriters b...   14.6200  \n",
       "3      Bretford CR4500 Series Slim Rectangular Table  957.5775  \n",
       "4                     Eldon Fold 'N Roll Cart System   22.3680  "
      ]
     },
     "execution_count": 81,
     "metadata": {},
     "output_type": "execute_result"
    }
   ],
   "source": [
    "df.head()"
   ]
  },
  {
   "cell_type": "code",
   "execution_count": 82,
   "id": "81fcc9d3",
   "metadata": {},
   "outputs": [
    {
     "data": {
      "text/plain": [
       "529"
      ]
     },
     "execution_count": 82,
     "metadata": {},
     "output_type": "execute_result"
    }
   ],
   "source": [
    "df['City'].nunique() # 529 value"
   ]
  },
  {
   "cell_type": "code",
   "execution_count": 83,
   "id": "d1a7b839",
   "metadata": {},
   "outputs": [],
   "source": [
    "# df['City'].unique() "
   ]
  },
  {
   "cell_type": "code",
   "execution_count": 84,
   "id": "a3a78912",
   "metadata": {},
   "outputs": [
    {
     "data": {
      "text/plain": [
       "New York City    891\n",
       "Los Angeles      728\n",
       "Philadelphia     532\n",
       "San Francisco    500\n",
       "Seattle          426\n",
       "                ... \n",
       "Pico Rivera        1\n",
       "Cedar Rapids       1\n",
       "Baytown            1\n",
       "Palatine           1\n",
       "Champaign          1\n",
       "Name: City, Length: 529, dtype: int64"
      ]
     },
     "execution_count": 84,
     "metadata": {},
     "output_type": "execute_result"
    }
   ],
   "source": [
    "df['City'].value_counts() # I will take Top 5"
   ]
  },
  {
   "cell_type": "markdown",
   "id": "177b0ff4",
   "metadata": {},
   "source": [
    "\n",
    "## Q5- Which city has the highest sales out of the 5 cities with the highest sales?"
   ]
  },
  {
   "cell_type": "code",
   "execution_count": 85,
   "id": "2bea1ad3",
   "metadata": {},
   "outputs": [
    {
     "data": {
      "image/png": "[encoded data removed]",
      "text/plain": [
       "<Figure size 432x288 with 1 Axes>"
      ]
     },
     "metadata": {
      "needs_background": "light"
     },
     "output_type": "display_data"
    }
   ],
   "source": [
    "\n",
    "data = {'City':['New York City','Los Angeles ','Philadelphia','San Francisco','Seattle'],\n",
    "       'Sales':[891,728,532,500,426]}\n",
    "df_x= pd.DataFrame(data)\n",
    "df_x\n",
    "sns.barplot( x=df_x.City, y= df_x.Sales);\n",
    "\n",
    "#plt.figure(figsize=[14, 6])\n",
    "\n",
    "plt.yticks(rotation = 90);\n",
    "plt.savefig(\"Down.png\",dpi=250);\n",
    "#plt.show()\n",
    "\n",
    "# New York City"
   ]
  },
  {
   "cell_type": "code",
   "execution_count": 86,
   "id": "e817ab6f",
   "metadata": {},
   "outputs": [
    {
     "data": {
      "text/html": [
       "<div>\n",
       "<style scoped>\n",
       "    .dataframe tbody tr th:only-of-type {\n",
       "        vertical-align: middle;\n",
       "    }\n",
       "\n",
       "    .dataframe tbody tr th {\n",
       "        vertical-align: top;\n",
       "    }\n",
       "\n",
       "    .dataframe thead th {\n",
       "        text-align: right;\n",
       "    }\n",
       "</style>\n",
       "<table border=\"1\" class=\"dataframe\">\n",
       "  <thead>\n",
       "    <tr style=\"text-align: right;\">\n",
       "      <th></th>\n",
       "      <th>Row ID</th>\n",
       "      <th>Order ID</th>\n",
       "      <th>Order Date</th>\n",
       "      <th>Customer ID</th>\n",
       "      <th>Customer Name</th>\n",
       "      <th>Segment</th>\n",
       "      <th>Country</th>\n",
       "      <th>City</th>\n",
       "      <th>Product ID</th>\n",
       "      <th>Category</th>\n",
       "      <th>Product Name</th>\n",
       "      <th>Sales</th>\n",
       "      <th>year</th>\n",
       "      <th>month</th>\n",
       "    </tr>\n",
       "  </thead>\n",
       "  <tbody>\n",
       "    <tr>\n",
       "      <th>0</th>\n",
       "      <td>1</td>\n",
       "      <td>CA-2017-152156</td>\n",
       "      <td>08/11/2017</td>\n",
       "      <td>CG-12520</td>\n",
       "      <td>Claire Gute</td>\n",
       "      <td>Consumer</td>\n",
       "      <td>United States</td>\n",
       "      <td>Henderson</td>\n",
       "      <td>FUR-BO-10001798</td>\n",
       "      <td>Furniture</td>\n",
       "      <td>Bush Somerset Collection Bookcase</td>\n",
       "      <td>261.9600</td>\n",
       "      <td>2017</td>\n",
       "      <td>8</td>\n",
       "    </tr>\n",
       "    <tr>\n",
       "      <th>1</th>\n",
       "      <td>2</td>\n",
       "      <td>CA-2017-152156</td>\n",
       "      <td>08/11/2017</td>\n",
       "      <td>CG-12520</td>\n",
       "      <td>Claire Gute</td>\n",
       "      <td>Consumer</td>\n",
       "      <td>United States</td>\n",
       "      <td>Henderson</td>\n",
       "      <td>FUR-CH-10000454</td>\n",
       "      <td>Furniture</td>\n",
       "      <td>Hon Deluxe Fabric Upholstered Stacking Chairs,...</td>\n",
       "      <td>731.9400</td>\n",
       "      <td>2017</td>\n",
       "      <td>8</td>\n",
       "    </tr>\n",
       "    <tr>\n",
       "      <th>2</th>\n",
       "      <td>3</td>\n",
       "      <td>CA-2017-138688</td>\n",
       "      <td>12/06/2017</td>\n",
       "      <td>DV-13045</td>\n",
       "      <td>Darrin Van Huff</td>\n",
       "      <td>Corporate</td>\n",
       "      <td>United States</td>\n",
       "      <td>Los Angeles</td>\n",
       "      <td>OFF-LA-10000240</td>\n",
       "      <td>Office Supplies</td>\n",
       "      <td>Self-Adhesive Address Labels for Typewriters b...</td>\n",
       "      <td>14.6200</td>\n",
       "      <td>2017</td>\n",
       "      <td>12</td>\n",
       "    </tr>\n",
       "    <tr>\n",
       "      <th>3</th>\n",
       "      <td>4</td>\n",
       "      <td>US-2016-108966</td>\n",
       "      <td>11/10/2016</td>\n",
       "      <td>SO-20335</td>\n",
       "      <td>Sean O'Donnell</td>\n",
       "      <td>Consumer</td>\n",
       "      <td>United States</td>\n",
       "      <td>Fort Lauderdale</td>\n",
       "      <td>FUR-TA-10000577</td>\n",
       "      <td>Furniture</td>\n",
       "      <td>Bretford CR4500 Series Slim Rectangular Table</td>\n",
       "      <td>957.5775</td>\n",
       "      <td>2016</td>\n",
       "      <td>11</td>\n",
       "    </tr>\n",
       "    <tr>\n",
       "      <th>4</th>\n",
       "      <td>5</td>\n",
       "      <td>US-2016-108966</td>\n",
       "      <td>11/10/2016</td>\n",
       "      <td>SO-20335</td>\n",
       "      <td>Sean O'Donnell</td>\n",
       "      <td>Consumer</td>\n",
       "      <td>United States</td>\n",
       "      <td>Fort Lauderdale</td>\n",
       "      <td>OFF-ST-10000760</td>\n",
       "      <td>Office Supplies</td>\n",
       "      <td>Eldon Fold 'N Roll Cart System</td>\n",
       "      <td>22.3680</td>\n",
       "      <td>2016</td>\n",
       "      <td>11</td>\n",
       "    </tr>\n",
       "  </tbody>\n",
       "</table>\n",
       "</div>"
      ],
      "text/plain": [
       "   Row ID        Order ID  Order Date Customer ID    Customer Name    Segment  \\\n",
       "0       1  CA-2017-152156  08/11/2017    CG-12520      Claire Gute   Consumer   \n",
       "1       2  CA-2017-152156  08/11/2017    CG-12520      Claire Gute   Consumer   \n",
       "2       3  CA-2017-138688  12/06/2017    DV-13045  Darrin Van Huff  Corporate   \n",
       "3       4  US-2016-108966  11/10/2016    SO-20335   Sean O'Donnell   Consumer   \n",
       "4       5  US-2016-108966  11/10/2016    SO-20335   Sean O'Donnell   Consumer   \n",
       "\n",
       "         Country             City       Product ID         Category  \\\n",
       "0  United States        Henderson  FUR-BO-10001798        Furniture   \n",
       "1  United States        Henderson  FUR-CH-10000454        Furniture   \n",
       "2  United States      Los Angeles  OFF-LA-10000240  Office Supplies   \n",
       "3  United States  Fort Lauderdale  FUR-TA-10000577        Furniture   \n",
       "4  United States  Fort Lauderdale  OFF-ST-10000760  Office Supplies   \n",
       "\n",
       "                                        Product Name     Sales  year  month  \n",
       "0                  Bush Somerset Collection Bookcase  261.9600  2017      8  \n",
       "1  Hon Deluxe Fabric Upholstered Stacking Chairs,...  731.9400  2017      8  \n",
       "2  Self-Adhesive Address Labels for Typewriters b...   14.6200  2017     12  \n",
       "3      Bretford CR4500 Series Slim Rectangular Table  957.5775  2016     11  \n",
       "4                     Eldon Fold 'N Roll Cart System   22.3680  2016     11  "
      ]
     },
     "execution_count": 86,
     "metadata": {},
     "output_type": "execute_result"
    }
   ],
   "source": [
    "\n",
    "\n",
    "df['year'] = pd.DatetimeIndex(df['Order Date']).year\n",
    "df['month'] = pd.DatetimeIndex(df['Order Date']).month\n",
    "df.head(5)\n"
   ]
  },
  {
   "cell_type": "markdown",
   "id": "3ecfaa98",
   "metadata": {},
   "source": [
    "## Q6- which month is the highest sales?"
   ]
  },
  {
   "cell_type": "code",
   "execution_count": 87,
   "id": "860bf673",
   "metadata": {},
   "outputs": [
    {
     "data": {
      "image/png": "[encoded data removed]",
      "text/plain": [
       "<Figure size 1008x432 with 1 Axes>"
      ]
     },
     "metadata": {
      "needs_background": "light"
     },
     "output_type": "display_data"
    }
   ],
   "source": [
    "\n",
    "\n",
    "plt.figure(figsize=[14, 6])\n",
    "\n",
    "sns.barplot( x=df.month, y=df.Sales);\n",
    "plt.xticks(rotation = 360);\n",
    "plt.savefig(\"Do.png\",dpi=250);\n",
    "# len spac\n"
   ]
  },
  {
   "cell_type": "code",
   "execution_count": 88,
   "id": "1b7d58f4",
   "metadata": {},
   "outputs": [
    {
     "name": "stdout",
     "output_type": "stream",
     "text": [
      "<class 'pandas.core.frame.DataFrame'>\n",
      "RangeIndex: 9800 entries, 0 to 9799\n",
      "Data columns (total 14 columns):\n",
      " #   Column         Non-Null Count  Dtype  \n",
      "---  ------         --------------  -----  \n",
      " 0   Row ID         9800 non-null   int64  \n",
      " 1   Order ID       9800 non-null   object \n",
      " 2   Order Date     9800 non-null   object \n",
      " 3   Customer ID    9800 non-null   object \n",
      " 4   Customer Name  9800 non-null   object \n",
      " 5   Segment        9800 non-null   object \n",
      " 6   Country        9800 non-null   object \n",
      " 7   City           9800 non-null   object \n",
      " 8   Product ID     9800 non-null   object \n",
      " 9   Category       9800 non-null   object \n",
      " 10  Product Name   9800 non-null   object \n",
      " 11  Sales          9800 non-null   float64\n",
      " 12  year           9800 non-null   int64  \n",
      " 13  month          9800 non-null   int64  \n",
      "dtypes: float64(1), int64(3), object(10)\n",
      "memory usage: 1.0+ MB\n"
     ]
    }
   ],
   "source": [
    "df.info()"
   ]
  },
  {
   "cell_type": "markdown",
   "id": "0d2589ce",
   "metadata": {},
   "source": [
    "## Q7- which month is the highest sales?"
   ]
  },
  {
   "cell_type": "code",
   "execution_count": 89,
   "id": "a31b21fa",
   "metadata": {},
   "outputs": [
    {
     "data": {
      "image/png": "[encoded data removed]",
      "text/plain": [
       "<Figure size 432x288 with 1 Axes>"
      ]
     },
     "metadata": {},
     "output_type": "display_data"
    }
   ],
   "source": [
    "\n",
    "\n",
    "YearOfSales= df.groupby(['year'] )[['Sales']].sum().sort_values(ascending = False , by ='Sales')\n",
    "#  to draw the result in pie chart  \n",
    "chart_year = YearOfSales.values.flatten()\n",
    "\n",
    "# to know the value of year\n",
    "df['year'].unique() \n",
    "\n",
    "\n",
    "color = sns.color_palette('Set1')\n",
    "label =['2017','2016','2015','2018'] # labels order \n",
    "plt.pie(chart_year ,labels= label , autopct='%.0f%%' , colors=color)\n",
    "plt.savefig(\"Downloads.png\",dpi=250);\n",
    "#plt.show()\n"
   ]
  },
  {
   "cell_type": "code",
   "execution_count": null,
   "id": "86f3a060",
   "metadata": {},
   "outputs": [],
   "source": [
    "\n"
   ]
  },
  {
   "cell_type": "code",
   "execution_count": null,
   "id": "76cf1cdb",
   "metadata": {},
   "outputs": [],
   "source": []
  },
  {
   "cell_type": "code",
   "execution_count": null,
   "id": "3f2ee8b0",
   "metadata": {},
   "outputs": [],
   "source": []
  },
  {
   "cell_type": "code",
   "execution_count": null,
   "id": "c922f129",
   "metadata": {},
   "outputs": [],
   "source": []
  },
  {
   "cell_type": "code",
   "execution_count": null,
   "id": "8df87164",
   "metadata": {},
   "outputs": [],
   "source": []
  }
 ],
 "metadata": {
  "kernelspec": {
   "display_name": "Python 3",
   "language": "python",
   "name": "python3"
  },
  "language_info": {
   "codemirror_mode": {
    "name": "ipython",
    "version": 3
   },
   "file_extension": ".py",
   "mimetype": "text/x-python",
   "name": "python",
   "nbconvert_exporter": "python",
   "pygments_lexer": "ipython3",
   "version": "3.8.8"
  }
 },
 "nbformat": 4,
 "nbformat_minor": 5
}
